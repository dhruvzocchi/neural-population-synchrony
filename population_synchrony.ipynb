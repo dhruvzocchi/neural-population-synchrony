{
 "cells": [
  {
   "cell_type": "code",
   "execution_count": 1,
   "metadata": {},
   "outputs": [],
   "source": [
    "import numpy as np\n",
    "import matplotlib.pyplot as plt"
   ]
  },
  {
   "cell_type": "code",
   "execution_count": 2,
   "metadata": {},
   "outputs": [
    {
     "name": "stdout",
     "output_type": "stream",
     "text": [
      "(7, 24)\n",
      "[0, 1, 2, 3, 4, 5, 6]\n"
     ]
    }
   ],
   "source": [
    "#cell_A = np.array([1,0,0,1,1,0,1,0,0,1,1,0,0,1,0,0,1,0,1,0])\n",
    "#cell_B = np.array([1,0,0,0,1,0,0,1,0,1,0,1,1,0,0,1,1,0,0,0])\n",
    "#cell_C = np.array([1,0,0,0,0,1,0,0,1,0,1,0,1,1,0,0,0,1,0,1])\n",
    "#cell_D = np.array([0,1,1,0,0,1,0,0,0,0,1,0,0,0,1,0,1,1,0,1])\n",
    "#cell_E = np.array([1,0,0,1,0,0,1,0,1,1,0,1,1,1,0,1,0,0,1,0])\n",
    "#cell_F = np.array([1,0,0,1,0,0,1,0,0,1,0,1,0,1,0,0,0,0,1,0])\n",
    "#cell_G = np.array([1,0,0,1,0,0,0,0,1,1,0,1,0,1,0,1,0,0,1,0])\n",
    "\n",
    "cell_A = np.array([0,1,0,1,0,1,0,1,0,1,0,1,0,1,0,1,0,1,0,1,0,1,0,1])\n",
    "cell_B = np.array([0,1,0,1,0,1,0,1,0,1,0,1,0,1,0,1,0,1,0,1,0,1,0,1])\n",
    "cell_C = np.array([0,0,0,1,0,0,0,0,0,0,0,0,0,1,0,0,0,0,0,0,0,0,0,0])\n",
    "cell_D = np.array([1,0,1,0,1,0,0,0,1,0,1,0,1,1,1,0,1,0,1,0,1,0,1,0])\n",
    "cell_E = np.array([1,0,1,0,1,0,1,0,1,0,1,0,1,0,1,0,1,0,1,0,1,0,1,0])\n",
    "cell_F = np.array([0,0,0,0,0,0,0,0,0,0,0,0,0,0,0,0,0,0,0,0,0,0,0,0])\n",
    "cell_G = np.array([0,1,0,1,0,1,0,1,0,1,0,1,0,1,0,1,0,1,0,1,0,1,0,1])\n",
    "\n",
    "\n",
    "spiketrain_arr = np.vstack( [ cell_A , cell_B , cell_C , cell_D , cell_E , cell_F , cell_G ])\n",
    "cell_id_list = [0,1,2,3,4,5,6]\n",
    "print(spiketrain_arr.shape)\n",
    "print(cell_id_list)"
   ]
  },
  {
   "cell_type": "code",
   "execution_count": 3,
   "metadata": {},
   "outputs": [],
   "source": [
    "## input: list of probabilities \n",
    "## returns: entropy\n",
    "def calc_entr(prob_arr):\n",
    "    inf_list=[]\n",
    "    for p in prob_arr:\n",
    "        if p == 0:\n",
    "            p = 1e-19\n",
    "        inf_list.append( -p*np.log(p) )\n",
    "    return np.sum(inf_list)\n",
    "\n",
    "## input: list containing either a single, or 2 spike trains\n",
    "## returns: probability of having a spike in time bin \n",
    "def calc_prob(spike_trains):\n",
    "    if len(spike_trains)>1:\n",
    "        sync_train = np.bitwise_and( spike_trains[0] , spike_trains[1] )\n",
    "        tot_spikes = np.sum(sync_train)\n",
    "        num_bins = sync_train.shape[0]\n",
    " \n",
    "    else:\n",
    "        tot_spikes = np.sum(spike_trains[0])\n",
    "        num_bins = spike_trains[0].shape[0]\n",
    "        \n",
    "    if tot_spikes == 0:\n",
    "            tot_spikes = 1e-19\n",
    "    return tot_spikes / num_bins\n",
    "\n",
    "## input: array of cell responses [rowxcol = cellsxtime bins]\n",
    "## returns: 2 arrays, one containing entropy change from combining pair of spike trains\n",
    "## for each pair in the input array. The other contains the indices of the combinations\n",
    "def calc_entr_change(cell_array):\n",
    "    num_cells = cell_array.shape[0]\n",
    "    comb_list = []\n",
    "    delH_list = []\n",
    "    for i, train_1 in enumerate(cell_array):\n",
    "        for j in range( i+1 , num_cells ):\n",
    "            train_2 = cell_array[ j , : ]\n",
    "            p1 = calc_prob( [train_1] )\n",
    "            p2 = calc_prob( [train_2] )\n",
    "            p12 = calc_prob( [train_1 , train_2] )\n",
    "            p1_2 = p1 - p12\n",
    "            p12_ = p2 - p12\n",
    "            E_pre = calc_entr( [p1 , 1-p1 , p2 , 1-p2])\n",
    "            E_post = calc_entr( [p12 , 1-p12 , p1_2 , 1-p1_2 , p12_ , 1-p12_])\n",
    "            delH_list.append(E_pre - E_post)\n",
    "            comb_list.append([i,j])\n",
    "    return np.array(delH_list) , np.array(comb_list)\n"
   ]
  },
  {
   "cell_type": "code",
   "execution_count": 4,
   "metadata": {},
   "outputs": [
    {
     "name": "stdout",
     "output_type": "stream",
     "text": [
      "[0 1]\n",
      "0.6931471805599453\n",
      "[4 5]\n",
      "0.6931471805599453\n",
      "[1 2]\n",
      "0.35021301926450943\n",
      "finished after 3 iterations\n",
      "[[0 0 0 1 0 0 0 0 0 0 0 0 0 1 0 0 0 0 0 0 0 0 0 0]\n",
      " [0 0 0 0 0 0 0 0 0 0 0 0 0 0 0 0 0 0 0 0 0 0 0 0]\n",
      " [0 0 0 0 0 0 0 0 0 0 0 0 0 0 0 0 0 0 0 0 0 0 0 0]\n",
      " [0 0 0 0 0 0 0 0 0 0 0 0 0 0 0 0 0 0 0 0 0 0 0 0]\n",
      " [0 1 0 1 0 1 0 1 0 1 0 1 0 1 0 1 0 1 0 1 0 1 0 1]\n",
      " [0 0 0 0 0 0 0 0 0 0 0 0 0 0 0 0 0 0 0 0 0 0 0 0]\n",
      " [0 0 0 0 0 0 0 0 0 0 0 0 0 0 0 0 0 0 0 0 0 0 0 0]\n",
      " [1 0 1 0 1 0 0 0 1 0 1 0 1 0 1 0 1 0 1 0 1 0 1 0]\n",
      " [0 0 0 0 0 0 0 0 0 0 0 0 0 1 0 0 0 0 0 0 0 0 0 0]\n",
      " [0 0 0 0 0 0 1 0 0 0 0 0 0 0 0 0 0 0 0 0 0 0 0 0]]\n",
      "[2, 5, '(-0 1)', '(0 -1)', '(6 (0 1))', '(-6 (0 1))', '(6 -(0 1))', '(3 4)', '(-3 4)', '(3 -4)']\n"
     ]
    }
   ],
   "source": [
    "tolerance = 0.4\n",
    "counter=0\n",
    "\n",
    "#initialize delH_arr and comb_arr\n",
    "delH_arr , comb_arr = calc_entr_change(spiketrain_arr)\n",
    "while delH_arr.max() > tolerance:\n",
    "    counter+=1\n",
    "#figure out which pair of spike trains in spiketrain array give highest change in\n",
    "#H when replaced by a synthesized train of their union and the residual trains left over\n",
    "    delH_arr , comb_arr = calc_entr_change(spiketrain_arr)\n",
    "    idx = np.where( delH_arr == delH_arr.max() )[0][0]\n",
    "    best_comb = comb_arr[idx]\n",
    "    print(best_comb)\n",
    "#generate the new synthesized spike train from the best combination, and\n",
    "#also generate residual trains of left over spikes\n",
    "    new_train = np.bitwise_and( spiketrain_arr[ best_comb[0] ] , \n",
    "                                spiketrain_arr[ best_comb[1] ] )\n",
    "    residual_train_1 = np.bitwise_xor( spiketrain_arr[ best_comb[0] ] , \n",
    "                                    new_train )\n",
    "    residual_train_2 = np.bitwise_xor( spiketrain_arr[ best_comb[1] ] , \n",
    "                                    new_train )\n",
    "#remove the best combination trains and add the synthesized and residual \n",
    "#trains to the spiketrain array    \n",
    "    spiketrain_arr = np.delete( spiketrain_arr , best_comb , axis=0 )\n",
    "    spiketrain_arr = np.vstack( [spiketrain_arr , new_train , \n",
    "                                 residual_train_1 , residual_train_2] )\n",
    "#add the ids for the synthesized and residual spikes to cell identity array\n",
    "#have to add the new trains before deleting the old ones because otherwise\n",
    "#the idcs being referenced in best_comb will no longer be accurate\n",
    "    id1 = str(cell_id_list[ best_comb[0] ])\n",
    "    id2 = str(cell_id_list[ best_comb[1] ])\n",
    "    new_id1 = '(' + id1 + ' ' + id2 + ')'\n",
    "    new_id2 = '(-' + id1 + ' ' + id2 + ')'\n",
    "    new_id3 = '(' + id1 + ' ' + '-' + id2 + ')'\n",
    "    cell_id_list.append( new_id1 )\n",
    "    cell_id_list.append( new_id2 )\n",
    "    cell_id_list.append( new_id3 )\n",
    "#remove the id of the best combination trains, starting from largest idx first\n",
    "#so as not to reorder the idcs after each delete\n",
    "    for ele in sorted(best_comb, reverse = True):\n",
    "        del cell_id_list[ele]\n",
    "\n",
    "    #print(spiketrain_arr)\n",
    "    print(delH_arr.max())\n",
    "else:\n",
    "    print('finished after '+str(counter)+' iterations')\n",
    "    print(spiketrain_arr)\n",
    "    print(cell_id_list)"
   ]
  }
 ],
 "metadata": {
  "kernelspec": {
   "display_name": "Python 3",
   "language": "python",
   "name": "python3"
  },
  "language_info": {
   "codemirror_mode": {
    "name": "ipython",
    "version": 3
   },
   "file_extension": ".py",
   "mimetype": "text/x-python",
   "name": "python",
   "nbconvert_exporter": "python",
   "pygments_lexer": "ipython3",
   "version": "3.8.5"
  }
 },
 "nbformat": 4,
 "nbformat_minor": 4
}
